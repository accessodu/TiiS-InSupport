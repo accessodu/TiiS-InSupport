{
 "cells": [
  {
   "cell_type": "code",
   "execution_count": 1,
   "id": "6ca3014d",
   "metadata": {},
   "outputs": [],
   "source": [
    "from init import *\n",
    "from testURL import *"
   ]
  },
  {
   "cell_type": "code",
   "execution_count": 4,
   "id": "3f3c493b",
   "metadata": {},
   "outputs": [],
   "source": [
    "def evaluation(Search_X_test,Search_y_test,searchname,target_names):\n",
    "    p_class_0, p_class_1, r_class_0, r_class_1 = [], [], [], []\n",
    "    searchname = \"/Users/mdjavedulferdous/Desktop/TiiS/Code/search_model.sav\"\n",
    "    search_model = pickle.load(open(searchname, 'rb'))\n",
    "    y_score = search_model.predict(Search_X_test)\n",
    "    all_prob = search_model.predict_proba(Search_X_test)*100\n",
    "    print(all_prob)\n",
    "#     classes = search_model.classes_\n",
    "#     probas = search_model.predict_proba(Search_X_test)\n",
    "#     for class_name, proba in zip(classes, all_prob):\n",
    "#         print(f\"{class_name}: {proba}\")\n",
    "    for i in range(len(all_prob)):\n",
    "        if all_prob[i][1] >all_prob[i][0]:\n",
    "            print(\"No\",i+1,\"Node [TRUE]: {:.2f}\".format(all_prob[i][1]), \"Probability\")\n",
    "\n",
    "        \n",
    "#     print(\"After sigmoid layer: \", search_model.predict(Search_X_test))"
   ]
  },
  {
   "cell_type": "code",
   "execution_count": 13,
   "id": "42ee5191",
   "metadata": {},
   "outputs": [
    {
     "name": "stdout",
     "output_type": "stream",
     "text": [
      "Activewear.html\n",
      "[[ 0.82883163 99.17116837]\n",
      " [72.40509401 27.59490599]]\n",
      "No 1 Node [TRUE]: 99.17 Probability\n"
     ]
    }
   ],
   "source": [
    "Search_searchpath = '/Users/mdjavedulferdous/Desktop/TiiS/Code/result/SearchList_test_set_1_3.csv'\n",
    "Search_csv_df = pd.read_csv(Search_searchpath)\n",
    "search_name = Search_csv_df.iloc[: , -1][0].split('/')[-1]\n",
    "print(search_name)\n",
    "Search_X_test = Search_csv_df[[\"search_innertext\", \"search_attribute\", \"Number_of_search_word\",\"search_button_attribute_value\",\"is_button\"]]\n",
    "Search_y_test = Search_csv_df[[\"sClass\"]]\n",
    "searchname = \"/Users/mdjavedulferdous/Desktop/TiiS/Code/search_model.sav\"\n",
    "target_names = ['Non-Search', 'Search']\n",
    "pagename = Search_csv_df.iloc[: , -1][0].split('/')[-1]\n",
    "evaluation(Search_X_test,Search_y_test,searchname,target_names)\n",
    "#Search_csv_df.info()"
   ]
  },
  {
   "cell_type": "code",
   "execution_count": 14,
   "id": "837f304e",
   "metadata": {},
   "outputs": [
    {
     "name": "stdout",
     "output_type": "stream",
     "text": [
      "Activewear.html\n",
      "[[97.28058112  2.71941888]\n",
      " [97.39235514  2.60764486]\n",
      " [97.39235514  2.60764486]\n",
      " [97.39235514  2.60764486]\n",
      " [97.39235514  2.60764486]\n",
      " [97.39235514  2.60764486]\n",
      " [97.39235514  2.60764486]\n",
      " [97.39235514  2.60764486]\n",
      " [97.39235514  2.60764486]\n",
      " [97.39235514  2.60764486]\n",
      " [97.39235514  2.60764486]\n",
      " [97.39235514  2.60764486]\n",
      " [97.28058112  2.71941888]]\n"
     ]
    }
   ],
   "source": [
    "filter_searchpath = '/Users/mdjavedulferdous/Desktop/TiiS/Code/result/filter_test_set_1_3.csv'\n",
    "filter_csv_df = pd.read_csv(filter_searchpath)\n",
    "pagename = filter_csv_df.iloc[: , -1][0].split('/')[-1]\n",
    "print(pagename)\n",
    "filter_X_test = filter_csv_df[[\"checkBoxList\", \"NumberOfLink\",\"NumberOfInput\", \"URL_List\", \"button_List\"]]\n",
    "filter_y_test = filter_csv_df[[\"filterClass\"]]\n",
    "filtername = \"/Users/mdjavedulferdous/Desktop/TiiS/Code/filter_model.sav\"\n",
    "target_names = ['Non-Filter', 'Filter']\n",
    "evaluation(filter_X_test,filter_y_test,filtername,target_names)"
   ]
  },
  {
   "cell_type": "code",
   "execution_count": 16,
   "id": "5608b2dc",
   "metadata": {},
   "outputs": [
    {
     "name": "stdout",
     "output_type": "stream",
     "text": [
      "[[0.8 0.2]\n",
      " [0.  1. ]\n",
      " [1.  0. ]\n",
      " [1.  0. ]\n",
      " [0.  1. ]\n",
      " [0.  1. ]\n",
      " [1.  0. ]\n",
      " [1.  0. ]\n",
      " [0.  1. ]\n",
      " [0.  1. ]\n",
      " [0.8 0.2]\n",
      " [0.8 0.2]\n",
      " [1.  0. ]\n",
      " [1.  0. ]\n",
      " [1.  0. ]\n",
      " [1.  0. ]\n",
      " [1.  0. ]\n",
      " [1.  0. ]\n",
      " [1.  0. ]\n",
      " [1.  0. ]\n",
      " [1.  0. ]\n",
      " [0.8 0.2]\n",
      " [1.  0. ]\n",
      " [1.  0. ]\n",
      " [1.  0. ]\n",
      " [1.  0. ]]\n",
      "Activewear.html\n",
      "No 2 Node [TRUE]: 1.00 Probability\n",
      "Activewear.html\n",
      "No 5 Node [TRUE]: 1.00 Probability\n",
      "Activewear.html\n",
      "No 6 Node [TRUE]: 1.00 Probability\n",
      "Activewear.html\n",
      "No 9 Node [TRUE]: 1.00 Probability\n",
      "Activewear.html\n",
      "No 10 Node [TRUE]: 1.00 Probability\n"
     ]
    }
   ],
   "source": [
    "sort_searchpath = '/Users/mdjavedulferdous/Desktop/TiiS/Code/result/sort_test_set_1_3.csv'\n",
    "sort_csv_df = pd.read_csv(sort_searchpath)\n",
    "sort_X_test = sort_csv_df[['sort_inner','sort_attribute','option_tag_attribute_value','textCount']]\n",
    "sort_y_test = sort_csv_df[[\"sortClass\"]]\n",
    "sortname = \"/Users/mdjavedulferdous/Desktop/TiiS/Code/sort_model.sav\"\n",
    "\n",
    "p_class_0, p_class_1, r_class_0, r_class_1 = [], [], [], []\n",
    "sort_model = pickle.load(open(sortname, 'rb'))\n",
    "sort_score = sort_model.predict(sort_X_test)\n",
    "all_prob_sort = sort_model.predict_proba(sort_X_test)\n",
    "print(all_prob_sort)\n",
    "#     classes = search_model.classes_\n",
    "#     probas = search_model.predict_proba(Search_X_test)\n",
    "#     for class_name, proba in zip(classes, all_prob):\n",
    "#         print(f\"{class_name}: {proba}\")\n",
    "for i in range(len(all_prob_sort)):\n",
    "    if all_prob_sort[i][1] >all_prob_sort[i][0]:\n",
    "            sort_pagename = sort_csv_df.iloc[: , -1][0].split('/')[-1]\n",
    "            print(sort_pagename)\n",
    "            print(\"No\",i+1,\"Node [TRUE]: {:.2f}\".format(all_prob_sort[i][1]), \"Probability\")\n"
   ]
  },
  {
   "cell_type": "code",
   "execution_count": 24,
   "id": "9dd9c71c",
   "metadata": {},
   "outputs": [
    {
     "name": "stdout",
     "output_type": "stream",
     "text": [
      "[[0.81463366 0.18536634]\n",
      " [0.81463366 0.18536634]\n",
      " [0.75561989 0.24438011]]\n",
      "Activewear.html\n"
     ]
    }
   ],
   "source": [
    "page_searchpath = '/Users/mdjavedulferdous/Desktop/TiiS/Code/result/page_test_set_1_3.csv'\n",
    "page_csv_df = pd.read_csv(page_searchpath)\n",
    "page_X_test = page_csv_df[['NumOfButton','NumOfLinks','commonURL','is_page','NumOfPage','NumberOfValues','navType']]\n",
    "page_y_test = page_csv_df[[\"pageClass\"]]\n",
    "pagename = \"/Users/mdjavedulferdous/Desktop/TiiS/Code/page_model.sav\"\n",
    "\n",
    "PAGE_model = pickle.load(open(pagename, 'rb'))\n",
    "page_score = PAGE_model.predict(page_X_test)\n",
    "all_prob_PAGE = PAGE_model.predict_proba(page_X_test)\n",
    "print(all_prob_PAGE)\n",
    "PAGE_pagename = page_csv_df.iloc[: , -1][0].split('/')[-1]\n",
    "print(PAGE_pagename)\n",
    "for i in range(len(all_prob_PAGE)):\n",
    "    if all_prob_PAGE[i][1] >all_prob_PAGE[i][0]:\n",
    "                          \n",
    "            print(\"No\",i+1,\"Node [TRUE]: {:.2f}\".format(all_prob_PAGE[i][1]), \"Probability\")\n"
   ]
  },
  {
   "cell_type": "code",
   "execution_count": null,
   "id": "4a5a31b8",
   "metadata": {},
   "outputs": [],
   "source": []
  }
 ],
 "metadata": {
  "kernelspec": {
   "display_name": "Python 3 (ipykernel)",
   "language": "python",
   "name": "python3"
  },
  "language_info": {
   "codemirror_mode": {
    "name": "ipython",
    "version": 3
   },
   "file_extension": ".py",
   "mimetype": "text/x-python",
   "name": "python",
   "nbconvert_exporter": "python",
   "pygments_lexer": "ipython3",
   "version": "3.9.7"
  }
 },
 "nbformat": 4,
 "nbformat_minor": 5
}
